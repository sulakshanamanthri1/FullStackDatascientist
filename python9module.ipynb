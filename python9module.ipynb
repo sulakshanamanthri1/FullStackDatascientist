{
 "cells": [
  {
   "cell_type": "code",
   "execution_count": null,
   "id": "41ad2301",
   "metadata": {},
   "outputs": [
    {
     "name": "stdout",
     "output_type": "stream",
     "text": [
      "cATCHA\n",
      "prETEEN\n",
      "you've got this\n",
      "KEEP TRYING\n"
     ]
    }
   ],
   "source": [
    "#9th\n",
    "def preLetterCase(text, letter):\n",
    "    inn=text.lower()\n",
    "    index = inn.find(letter)\n",
    "    \n",
    "    if index == -1:\n",
    "        return text.lower() \n",
    "    else:\n",
    "        before = text[:index].lower()  \n",
    "        after = text[index:].upper()  \n",
    "        return before + after\n",
    "\n",
    "print(preLetterCase(\"CAtCHa\", \"a\"))  \n",
    "print(preLetterCase(\"Preteen\", \"e\"))  \n",
    "print(preLetterCase(\"You've got this\", \"m\")) \n",
    "print(preLetterCase(\"Keep trying\", \"k\")) "
   ]
  },
  {
   "cell_type": "code",
   "execution_count": 14,
   "id": "455ec123",
   "metadata": {},
   "outputs": [
    {
     "name": "stdout",
     "output_type": "stream",
     "text": [
      "Original attributes and their values of the Student class:\n",
      "Student Id : M11\n",
      "Student Name : Anusha Rao\n"
     ]
    }
   ],
   "source": [
    "#11\n",
    "class Student:\n",
    "    student_id = input(\"Enter Student Id :\")\n",
    "    student_Name = input(\"Enter Student Name:\")   \n",
    "    def display(self):\n",
    "        print(\"Original attributes and their values of the Student class:\")\n",
    "        print(\"Student Id :\",self.student_id )\n",
    "        print(\"Student Name :\",self.student_Name)\n",
    "        \n",
    "a=Student();\n",
    "a.display();\n"
   ]
  },
  {
   "cell_type": "code",
   "execution_count": null,
   "id": "442d8d18",
   "metadata": {},
   "outputs": [
    {
     "name": "stdout",
     "output_type": "stream",
     "text": [
      "Hypotenuse: 3.61\n"
     ]
    }
   ],
   "source": [
    "#10\n",
    "import math\n",
    "def hypotenuse():\n",
    "    a=float(input(\"enter side1\"))\n",
    "    b=float(input(\"enter side2\"))\n",
    "    c=math.sqrt((a*a)+(b*b))\n",
    "    print(f\"Hypotenuse: {c:.2f}\")\n",
    "\n",
    "hypotenuse();\n"
   ]
  },
  {
   "cell_type": "code",
   "execution_count": null,
   "id": "c532194b",
   "metadata": {},
   "outputs": [],
   "source": []
  }
 ],
 "metadata": {
  "kernelspec": {
   "display_name": "Python 3",
   "language": "python",
   "name": "python3"
  },
  "language_info": {
   "codemirror_mode": {
    "name": "ipython",
    "version": 3
   },
   "file_extension": ".py",
   "mimetype": "text/x-python",
   "name": "python",
   "nbconvert_exporter": "python",
   "pygments_lexer": "ipython3",
   "version": "3.11.0"
  }
 },
 "nbformat": 4,
 "nbformat_minor": 5
}
