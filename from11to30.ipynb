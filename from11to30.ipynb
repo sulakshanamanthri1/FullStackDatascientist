{
 "cells": [
  {
   "cell_type": "code",
   "execution_count": null,
   "id": "ad1041d8",
   "metadata": {},
   "outputs": [
    {
     "name": "stdout",
     "output_type": "stream",
     "text": [
      "['9', '8', '6', '5', '4', '3', '2', ' ']\n",
      "8\n"
     ]
    }
   ],
   "source": [
    "#12\n",
    "a= input()\n",
    "l= list(set(a))\n",
    "l.sort(reverse=True)\n",
    "print(l[1])"
   ]
  },
  {
   "cell_type": "code",
   "execution_count": 12,
   "id": "f80c48ee",
   "metadata": {},
   "outputs": [
    {
     "name": "stdout",
     "output_type": "stream",
     "text": [
      "650\n"
     ]
    }
   ],
   "source": [
    "#13\n",
    "summ=0\n",
    "for i in range(51):\n",
    "    if(i%2 == 0):\n",
    "        summ+=i\n",
    "print(summ)\n"
   ]
  },
  {
   "cell_type": "code",
   "execution_count": null,
   "id": "2b1d5187",
   "metadata": {},
   "outputs": [
    {
     "name": "stdout",
     "output_type": "stream",
     "text": [
      "Lowercase count 5\n",
      "Uppercase count 5\n"
     ]
    }
   ],
   "source": [
    "#14\n",
    "a=input()\n",
    "lowercasecount=0\n",
    "uppercase=0\n",
    "for i in a :\n",
    "    if i.islower():\n",
    "        lowercasecount+=1\n",
    "    elif i.isupper():\n",
    "        uppercase+=1\n",
    "print(\"Lowercase count\",lowercasecount)\n",
    "print(\"Uppercase count\",uppercase)"
   ]
  },
  {
   "cell_type": "code",
   "execution_count": 6,
   "id": "0e757482",
   "metadata": {},
   "outputs": [
    {
     "name": "stdout",
     "output_type": "stream",
     "text": [
      "0 1 1 2 3 5 "
     ]
    }
   ],
   "source": [
    "#15\n",
    "num=int(input())\n",
    "n1=0\n",
    "n2=1\n",
    "print(n1,end=' ')\n",
    "print(n2,end=' ')\n",
    "for i in range(2,num+1):\n",
    "    n3=n1+n2\n",
    "    print(n3,end=' ')\n",
    "    n1=n2\n",
    "    n2=n3\n",
    "\n",
    "\n",
    "\n"
   ]
  },
  {
   "cell_type": "code",
   "execution_count": 13,
   "id": "711d249f",
   "metadata": {},
   "outputs": [
    {
     "name": "stdout",
     "output_type": "stream",
     "text": [
      "Yes\n"
     ]
    }
   ],
   "source": [
    "#16\n",
    "word1=input().lower()\n",
    "word2=input().lower()\n",
    "if(sorted(word1) == sorted(word2)):\n",
    "    print(\"Yes\")"
   ]
  },
  {
   "cell_type": "code",
   "execution_count": 55,
   "id": "cac4ea49",
   "metadata": {},
   "outputs": [
    {
     "name": "stdout",
     "output_type": "stream",
     "text": [
      "[1, 2, 3]\n",
      "6\n",
      "perfect number\n"
     ]
    }
   ],
   "source": [
    "#17\n",
    "num=int(input())\n",
    "originalnum=num\n",
    "divisors=[]\n",
    "summ=0\n",
    "for i in range(1,num):\n",
    "    if(num%i == 0):\n",
    "        divisors.append(i)\n",
    "print(divisors)\n",
    "for j in divisors:\n",
    "    summ=summ+j\n",
    "print(summ)\n",
    "if(summ== originalnum):\n",
    "    print(\"perfect number\")\n",
    "else:\n",
    "    print(\"Not a perfect number\")\n",
    "\n"
   ]
  },
  {
   "cell_type": "code",
   "execution_count": null,
   "id": "c17217d8",
   "metadata": {},
   "outputs": [
    {
     "name": "stdout",
     "output_type": "stream",
     "text": [
      "[33, 55, 55, 21, 21]\n",
      "percentage is  37.0\n",
      "grade is \n",
      "fail\n"
     ]
    }
   ],
   "source": [
    "#18\n",
    "marks=[]\n",
    "for i in range(5):\n",
    "    a=int(input( ))\n",
    "    marks.append(a)\n",
    "print(marks)\n",
    "summ=0\n",
    "for i in marks:\n",
    "    summ=summ+i\n",
    "per = (summ/500)*100\n",
    "print(\"percentage is \",per)\n",
    "print(\"grade is \")\n",
    "if (per > 90 or per == 90):\n",
    "    print(\"A\")\n",
    "elif(per >75 or per == 75):\n",
    "    print(\"B\")\n",
    "elif(per > 50 or per == 50):\n",
    "    print(\"C\")\n",
    "else:\n",
    "    print(\"fail\")"
   ]
  },
  {
   "cell_type": "code",
   "execution_count": 12,
   "id": "9ebc764b",
   "metadata": {},
   "outputs": [
    {
     "name": "stdout",
     "output_type": "stream",
     "text": [
      "2 3 5 7 11 13 17 19 23 "
     ]
    }
   ],
   "source": [
    "#19\n",
    "num = int(input(\"Enter a number: \"))\n",
    "for i in range(2, num + 1): \n",
    "    is_prime = True\n",
    "    for j in range(2, int(i ** 0.5) + 1): \n",
    "        if i % j == 0:\n",
    "            is_prime = False\n",
    "            break\n",
    "    if is_prime:\n",
    "        print(i, end=' ')\n"
   ]
  },
  {
   "cell_type": "code",
   "execution_count": 59,
   "id": "51a08d9a",
   "metadata": {},
   "outputs": [
    {
     "name": "stdout",
     "output_type": "stream",
     "text": [
      "7\n"
     ]
    }
   ],
   "source": [
    "#20\n",
    "a=input()\n",
    "c=1\n",
    "for i in a:\n",
    "    if(i== ' '):\n",
    "        c+=1\n",
    "print(c)"
   ]
  },
  {
   "cell_type": "code",
   "execution_count": 69,
   "id": "e210d53e",
   "metadata": {},
   "outputs": [
    {
     "name": "stdout",
     "output_type": "stream",
     "text": [
      "20.0\n"
     ]
    }
   ],
   "source": [
    "#21\n",
    "price=int(input())\n",
    "age=int(input())\n",
    "student=input().strip().lower()\n",
    "\n",
    "if student == 'yes':\n",
    "    total=price*0.2\n",
    "elif age <= 60 :\n",
    "    total=price*0.1\n",
    "else:\n",
    "    total=price\n",
    "print(total)\n",
    "\n",
    "\n"
   ]
  },
  {
   "cell_type": "code",
   "execution_count": 74,
   "id": "56b7aa0e",
   "metadata": {},
   "outputs": [
    {
     "name": "stdout",
     "output_type": "stream",
     "text": [
      "Your total charge is  500\n"
     ]
    }
   ],
   "source": [
    "#22\n",
    "carttotal=int(input())\n",
    "if carttotal > 500:\n",
    "    print(\"free delievery\")\n",
    "else:\n",
    "    carttotal = carttotal+50\n",
    "    print(\"Your total charge is \",carttotal)"
   ]
  },
  {
   "cell_type": "code",
   "execution_count": null,
   "id": "2a34cc95",
   "metadata": {},
   "outputs": [
    {
     "name": "stdout",
     "output_type": "stream",
     "text": [
      "B\n",
      "B\n",
      "C\n",
      "B\n"
     ]
    }
   ],
   "source": [
    "#23\n",
    "marks = list(map(int, input(\"Enter marks of 5 students: \").split()))\n",
    "\n",
    "for m in marks:\n",
    "    if 90 <= m <= 100:\n",
    "        print(\"A\")\n",
    "    elif 75 <= m <= 89:\n",
    "        print(\"B\")\n",
    "    elif 50 <= m <= 74:\n",
    "        print(\"C\")\n",
    "    else:\n",
    "        print(\"Fail\")"
   ]
  },
  {
   "cell_type": "code",
   "execution_count": 75,
   "id": "5afee769",
   "metadata": {},
   "outputs": [
    {
     "name": "stdout",
     "output_type": "stream",
     "text": [
      "suggested tip is 51.0\n"
     ]
    }
   ],
   "source": [
    "#24\n",
    "bill=int(input())\n",
    "if bill <500:\n",
    "    tip=bill*0.5\n",
    "elif 500 <= bill <= 1000:\n",
    "    tip=bill*0.1\n",
    "elif bill > 1000 :\n",
    "    tip = bill*0.15\n",
    "else:\n",
    "    tip=bill\n",
    "print(\"suggested tip is\",tip)"
   ]
  },
  {
   "cell_type": "code",
   "execution_count": null,
   "id": "9c2cf7e5",
   "metadata": {},
   "outputs": [],
   "source": [
    "#25\n",
    "months=int(input())\n",
    "if 1 <= months <= 5:\n",
    "    print(months*500)\n",
    "if 6 <= months <= "
   ]
  },
  {
   "cell_type": "code",
   "execution_count": 6,
   "id": "28077284",
   "metadata": {},
   "outputs": [
    {
     "name": "stdout",
     "output_type": "stream",
     "text": [
      "Eligible\n"
     ]
    }
   ],
   "source": [
    "#26\n",
    "total_classes=int(input())\n",
    "attended_classes=int(input())\n",
    "per= (attended_classes/total_classes)*100\n",
    "if per >= 75:\n",
    "    print(\"Eligible\")\n",
    "else:\n",
    "    print(\"Not Eligible\")"
   ]
  },
  {
   "cell_type": "code",
   "execution_count": 1,
   "id": "97d669f1",
   "metadata": {},
   "outputs": [
    {
     "name": "stdout",
     "output_type": "stream",
     "text": [
      "Succsessful\n"
     ]
    }
   ],
   "source": [
    "#27\n",
    "amount=int(input())\n",
    "if (amount %100== 0):\n",
    "    print(\"Succsessful\")\n",
    "else:\n",
    "    print(\"No\")"
   ]
  },
  {
   "cell_type": "code",
   "execution_count": 3,
   "id": "4b16918a",
   "metadata": {},
   "outputs": [
    {
     "name": "stdout",
     "output_type": "stream",
     "text": [
      "Too hot, stay indoors!\n"
     ]
    }
   ],
   "source": [
    "#28\n",
    "temperature=int(input())\n",
    "if (temperature >= 35):\n",
    "    print(\"Too hot, stay indoors!\")\n",
    "elif 20 <= temperature < 35:\n",
    "    print(\"Nice weather, go out!\")\n",
    "else :\n",
    "    print(\"It’s cold, wear warm clothes!\")"
   ]
  },
  {
   "cell_type": "code",
   "execution_count": 4,
   "id": "aee930dd",
   "metadata": {},
   "outputs": [
    {
     "name": "stdout",
     "output_type": "stream",
     "text": [
      "100 Rupees fine\n"
     ]
    }
   ],
   "source": [
    "#29\n",
    "days=int(input())\n",
    "if 1 <= days <= 5:\n",
    "    print(\"10 rupees fine\")\n",
    "elif 6<=days <=9 :\n",
    "    print(\"50 Rupees fine\")\n",
    "elif days >= 10:\n",
    "    print(\"100 Rupees fine\")\n",
    "    "
   ]
  },
  {
   "cell_type": "code",
   "execution_count": 5,
   "id": "6e342c1f",
   "metadata": {},
   "outputs": [
    {
     "name": "stdout",
     "output_type": "stream",
     "text": [
      "bill has to be paid is 707\n"
     ]
    }
   ],
   "source": [
    "#30\n",
    "units = int(input())\n",
    "if 1 <= units <=100:\n",
    "    bill = 5*units\n",
    "elif 101 <= units <=200:\n",
    "    bill = 7*units\n",
    "elif units> 200:\n",
    "    bill = 10*units\n",
    "print(\"bill has to be paid is\",bill)"
   ]
  },
  {
   "cell_type": "code",
   "execution_count": null,
   "id": "50976cfe",
   "metadata": {},
   "outputs": [],
   "source": []
  }
 ],
 "metadata": {
  "kernelspec": {
   "display_name": "Python 3",
   "language": "python",
   "name": "python3"
  },
  "language_info": {
   "codemirror_mode": {
    "name": "ipython",
    "version": 3
   },
   "file_extension": ".py",
   "mimetype": "text/x-python",
   "name": "python",
   "nbconvert_exporter": "python",
   "pygments_lexer": "ipython3",
   "version": "3.11.0"
  }
 },
 "nbformat": 4,
 "nbformat_minor": 5
}
