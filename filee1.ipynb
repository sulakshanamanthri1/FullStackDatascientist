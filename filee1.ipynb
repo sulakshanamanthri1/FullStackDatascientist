{
 "cells": [
  {
   "cell_type": "code",
   "execution_count": null,
   "id": "c785795f",
   "metadata": {},
   "outputs": [
    {
     "name": "stdout",
     "output_type": "stream",
     "text": [
      "4\n",
      "3\n"
     ]
    }
   ],
   "source": [
    "#1\n",
    "a=int(input())\n",
    "b=int(input())\n",
    "a=a+b\n",
    "b=a-b\n",
    "a=a-b\n",
    "print(a)\n",
    "print(b)"
   ]
  },
  {
   "cell_type": "code",
   "execution_count": null,
   "id": "6de5834c",
   "metadata": {},
   "outputs": [
    {
     "name": "stdout",
     "output_type": "stream",
     "text": [
      "olleh\n"
     ]
    }
   ],
   "source": [
    "#2\n",
    "str1=input()\n",
    "rev= ''.join(reversed(str1))\n",
    "print(rev)"
   ]
  },
  {
   "cell_type": "code",
   "execution_count": null,
   "id": "a0abf130",
   "metadata": {},
   "outputs": [
    {
     "name": "stdout",
     "output_type": "stream",
     "text": [
      "No it is not a amstrong number\n"
     ]
    }
   ],
   "source": [
    "#3\n",
    "a=int(input())\n",
    "summ=0\n",
    "originalnum=a\n",
    "while(a>0):\n",
    "    d= a%10\n",
    "    summ=summ+(d*d*d)\n",
    "    a=a//10\n",
    "if(summ == originalnum):\n",
    "    print(\"yes it is amstrong number\")\n",
    "else:\n",
    "    print(\"No it is not a amstrong number\")\n"
   ]
  },
  {
   "cell_type": "code",
   "execution_count": null,
   "id": "c63b9b1d",
   "metadata": {},
   "outputs": [
    {
     "name": "stdout",
     "output_type": "stream",
     "text": [
      "vowels: 3\n",
      "consonants: 6\n"
     ]
    }
   ],
   "source": [
    "#4\n",
    "st=input()\n",
    "countofvow=0\n",
    "countofcon=0\n",
    "for i in st:\n",
    "    if(i == 'a' or i== 'e' or i == 'i' or i == 'o' or i == 'u'):\n",
    "        countofvow+=1\n",
    "    else:\n",
    "        countofcon+=1\n",
    "print(\"vowels:\",countofvow)\n",
    "print(\"consonants:\",countofcon)"
   ]
  },
  {
   "cell_type": "code",
   "execution_count": null,
   "id": "4840b709",
   "metadata": {},
   "outputs": [
    {
     "name": "stdout",
     "output_type": "stream",
     "text": [
      "3 * 1=3\n",
      "3 * 2=6\n",
      "3 * 3=9\n",
      "3 * 4=12\n",
      "3 * 5=15\n",
      "3 * 6=18\n",
      "3 * 7=21\n",
      "3 * 8=24\n",
      "3 * 9=27\n",
      "3 * 10=30\n"
     ]
    }
   ],
   "source": [
    "#5\n",
    "num= int(input())\n",
    "for i in range(1,11):\n",
    "    print(f\"{num} * {i}={num*i}\")\n",
    "    "
   ]
  },
  {
   "cell_type": "code",
   "execution_count": null,
   "id": "61b58d14",
   "metadata": {},
   "outputs": [
    {
     "name": "stdout",
     "output_type": "stream",
     "text": [
      "yes\n"
     ]
    }
   ],
   "source": [
    "#6\n",
    "num=int(input())\n",
    "result= \"yes\" if num % 4 == 0 else \"No\"\n",
    "print(result)"
   ]
  },
  {
   "cell_type": "code",
   "execution_count": 39,
   "id": "6a8888ef",
   "metadata": {},
   "outputs": [
    {
     "name": "stdout",
     "output_type": "stream",
     "text": [
      "5\n"
     ]
    }
   ],
   "source": [
    "#7\n",
    "s= input().split()\n",
    "print(max(s))\n"
   ]
  },
  {
   "cell_type": "code",
   "execution_count": 36,
   "id": "256b1d99",
   "metadata": {},
   "outputs": [
    {
     "name": "stdout",
     "output_type": "stream",
     "text": [
      "yes it is palindrome\n"
     ]
    }
   ],
   "source": [
    "#8\n",
    "num=int(input())\n",
    "original=num\n",
    "summ=0\n",
    "while(num>0):\n",
    "    d=num % 10\n",
    "    summ=summ*10+d\n",
    "    num=num//10\n",
    "if(original == summ ):\n",
    "    print(\"yes it is palindrome\")\n",
    "else:\n",
    "    print(\"nO \")"
   ]
  },
  {
   "cell_type": "code",
   "execution_count": null,
   "id": "c797329f",
   "metadata": {},
   "outputs": [
    {
     "name": "stdout",
     "output_type": "stream",
     "text": [
      "6\n"
     ]
    }
   ],
   "source": [
    "#9\n",
    "n=int(input())\n",
    "for i in range(1,n):\n",
    "    n=n*i\n",
    "print(n)"
   ]
  },
  {
   "cell_type": "code",
   "execution_count": null,
   "id": "d3ae3400",
   "metadata": {},
   "outputs": [
    {
     "name": "stdout",
     "output_type": "stream",
     "text": [
      "15\n",
      "30\n",
      "45\n",
      "60\n",
      "75\n",
      "90\n"
     ]
    }
   ],
   "source": [
    "#10\n",
    "for i in range(1,101):\n",
    "    if(i%3 == 0 and i % 5 == 0):\n",
    "        print(i)"
   ]
  },
  {
   "cell_type": "code",
   "execution_count": null,
   "id": "40e2df3c",
   "metadata": {},
   "outputs": [],
   "source": []
  }
 ],
 "metadata": {
  "kernelspec": {
   "display_name": "Python 3",
   "language": "python",
   "name": "python3"
  },
  "language_info": {
   "codemirror_mode": {
    "name": "ipython",
    "version": 3
   },
   "file_extension": ".py",
   "mimetype": "text/x-python",
   "name": "python",
   "nbconvert_exporter": "python",
   "pygments_lexer": "ipython3",
   "version": "3.11.0"
  }
 },
 "nbformat": 4,
 "nbformat_minor": 5
}
