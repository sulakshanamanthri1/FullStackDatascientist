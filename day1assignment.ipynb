{
 "cells": [
  {
   "cell_type": "code",
   "execution_count": 1,
   "id": "66e7429e",
   "metadata": {},
   "outputs": [
    {
     "name": "stdout",
     "output_type": "stream",
     "text": [
      "[2, 3, 5, 7, 11, 13, 17, 19]\n"
     ]
    }
   ],
   "source": [
    "\"\"\"\n",
    "1.Prime Number Finder\n",
    " \n",
    "   * Function that returns all prime numbers up to `n`.\n",
    "   * Input: `n = 20`\n",
    "   * Output: `[2, 3, 5, 7, 11, 13, 17, 19]`\n",
    " \n",
    "\"\"\"\n",
    "def primefinder():\n",
    "    n=int(input())\n",
    "    l1=[]\n",
    "    \n",
    "    for i in range(2,n+1):\n",
    "        is_prime=True\n",
    "        for j in range(2, int(i**0.5)+1):\n",
    "            if(i%j==0):\n",
    "                is_prime=False\n",
    "                break\n",
    "        if(is_prime):\n",
    "            l1.append(i)\n",
    "    print(l1)\n",
    "\n",
    "primefinder();\n",
    "\n"
   ]
  },
  {
   "cell_type": "code",
   "execution_count": 2,
   "id": "85f42f5f",
   "metadata": {},
   "outputs": [
    {
     "name": "stdout",
     "output_type": "stream",
     "text": [
      "True\n"
     ]
    }
   ],
   "source": [
    "\"\"\"\n",
    "2. Palindrome Checker\n",
    " \n",
    "   * Check if a string is palindrome (ignoring spaces & case).\n",
    "   * Input: `\"Never odd or even\"`\n",
    "   * Output: `True`\n",
    "\"\"\"\n",
    "def palindrone():\n",
    "\n",
    "    m=input().lower()\n",
    "    nospace=''.join(m.split())\n",
    "    original=nospace\n",
    "    m1=''.join(reversed(nospace))\n",
    "    if m1 == original :\n",
    "        print('True')   \n",
    "    else:\n",
    "        print(\"false\")\n",
    "palindrone();\n"
   ]
  },
  {
   "cell_type": "code",
   "execution_count": 3,
   "id": "9b7538d6",
   "metadata": {},
   "outputs": [
    {
     "data": {
      "text/plain": [
       "True"
      ]
     },
     "execution_count": 3,
     "metadata": {},
     "output_type": "execute_result"
    }
   ],
   "source": [
    "\"\"\"\n",
    "Anagram Checker\n",
    " \n",
    "   * Function checks if two words are anagrams.\n",
    "   * Input: `\"listen\", \"silent\"`\n",
    "   * Output: `True`\n",
    "\"\"\"\n",
    "def anagramchecker(word1,word2):\n",
    "    w1=sorted(word1)\n",
    "    w2=sorted(word2)\n",
    "    if(w1 == w2):\n",
    "        return True\n",
    "    else:\n",
    "        return False\n",
    "anagramchecker(\"listen\", \"silent\")"
   ]
  },
  {
   "cell_type": "code",
   "execution_count": 5,
   "id": "f4414e48",
   "metadata": {},
   "outputs": [
    {
     "name": "stdout",
     "output_type": "stream",
     "text": [
      "Vowels=2,Consonants=3\n"
     ]
    }
   ],
   "source": [
    "\n",
    "\"\"\"\n",
    "4. Count Vowels & Consonants\n",
    " \n",
    "   * Return count of vowels & consonants.\n",
    "   * Input: `\"hello\"`\n",
    "   * Output: `Vowels=2, Consonants=3`\n",
    "\"\"\"\n",
    "def countvowcons():\n",
    "    word=input().lower()\n",
    "    vowcount=0\n",
    "    concount=0\n",
    "    vowel='aeiou'\n",
    "    for i in word:\n",
    "        if i in vowel:\n",
    "            vowcount+=1\n",
    "        else:\n",
    "            concount+=1\n",
    "    print(f\"Vowels={vowcount},Consonants={concount}\")\n",
    "\n",
    "countvowcons();\n",
    "\n"
   ]
  },
  {
   "cell_type": "code",
   "execution_count": 6,
   "id": "31781fe5",
   "metadata": {},
   "outputs": [
    {
     "name": "stdout",
     "output_type": "stream",
     "text": [
      "amazing\n"
     ]
    }
   ],
   "source": [
    "\"\"\"\n",
    "5. Longest Word Finder\n",
    " \n",
    "* Return longest word in a sentence.\n",
    "* Input: `\"Python is amazing\"`\n",
    "* Output: `\"amazing\"`\n",
    "\"\"\"\n",
    "def longestwordfinder():\n",
    "    splited=sentence.split()\n",
    "    return max(splited,key=len)\n",
    "\n",
    "sentence=input()\n",
    "print(longestwordfinder())"
   ]
  },
  {
   "cell_type": "code",
   "execution_count": 25,
   "id": "97063124",
   "metadata": {},
   "outputs": [
    {
     "name": "stdout",
     "output_type": "stream",
     "text": [
      "ob{#a\\\n"
     ]
    }
   ],
   "source": [
    "\"\"\"\n",
    "6.Random Password Generator (`random`, `string`)\n",
    " \n",
    "* Input: `length=6`\n",
    "* Output: `\"aB9@xQ\"`\n",
    " \n",
    "\n",
    "\"\"\"\n",
    "import random\n",
    "import string\n",
    "def passwordgenerator(length):\n",
    "    p= string.ascii_letters+string.digits+string.punctuation\n",
    "    password=''.join(random.choice(p) for _ in range(length))\n",
    "\n",
    "    print(password)\n",
    "    \n",
    "length=int(input())\n",
    "passwordgenerator(length);"
   ]
  },
  {
   "cell_type": "code",
   "execution_count": null,
   "id": "51a25481",
   "metadata": {},
   "outputs": [
    {
     "name": "stdout",
     "output_type": "stream",
     "text": [
      "Choose operation:\n",
      "1. Square root \n",
      "2. Factorial \n",
      "3. Sine \n",
      "4. Cosine \n",
      "Result: 5.0\n"
     ]
    }
   ],
   "source": [
    "\"\"\"\n",
    "7. Simple Calculator with `math`\n",
    " \n",
    "* Perform sqrt, factorial, sin, cos.\n",
    "* Input: `sqrt(25)`\n",
    "* Output: `5.0`\n",
    "\"\"\"\n",
    "import math\n",
    "\n",
    "def calculator():\n",
    "    print(\"Choose operation:\")\n",
    "    print(\"1. Square root \")\n",
    "    print(\"2. Factorial \")\n",
    "    print(\"3. Sine \")\n",
    "    print(\"4. Cosine \")\n",
    "\n",
    "    choice = input(\"Enter your choice (sqrt / factorial / sin / cos): \").lower()\n",
    "    num = float(input(\"Enter a number: \"))\n",
    "    if choice == \"sqrt\":\n",
    "        print(\"Result:\", math.sqrt(num))\n",
    "    elif choice == \"factorial\":\n",
    "        print(\"Result:\", math.factorial(int(num)))  \n",
    "    elif choice == \"sin\":\n",
    "        radians = math.radians(num)  \n",
    "        print(\"Result:\", math.sin(radians))\n",
    "    elif choice == \"cos\":\n",
    "        radians = math.radians(num)\n",
    "        print(\"Result:\", math.cos(radians))\n",
    "    else:\n",
    "        print(\"Invalid choice\")\n",
    "\n",
    "calculator()\n",
    "\n"
   ]
  },
  {
   "cell_type": "code",
   "execution_count": 15,
   "id": "fd604708",
   "metadata": {},
   "outputs": [
    {
     "name": "stdout",
     "output_type": "stream",
     "text": [
      "{'cat': 2, 'dog': 1}\n"
     ]
    }
   ],
   "source": [
    "\"\"\"\n",
    "8. Word Frequency Counter (`collections.Counter`)\n",
    " \n",
    "* Input: `\"cat dog cat\"`\n",
    "* Output: `{'cat':2,'dog':1}`\n",
    "\n",
    "\"\"\"\n",
    "from collections import Counter\n",
    "def counttfre():\n",
    "    w=words.split()\n",
    "    frequency=Counter(w)\n",
    "    print(dict(frequency))\n",
    "\n",
    "words=input().lower()\n",
    "counttfre();\n"
   ]
  },
  {
   "cell_type": "code",
   "execution_count": 18,
   "id": "a442b47f",
   "metadata": {},
   "outputs": [
    {
     "name": "stdout",
     "output_type": "stream",
     "text": [
      "Weather:Snowy,Temp:38 C\n"
     ]
    }
   ],
   "source": [
    "\"\"\"\n",
    "9.Weather Simulator (`random`)\n",
    " \n",
    "* Input: None\n",
    "* Output: `\"Weather: Sunny, Temp: 32°C\"`\n",
    "\n",
    "\"\"\"\n",
    "import random\n",
    "def weather_simulator():\n",
    "     w= [\"Sunny\", \"Rainy\", \"Cloudy\", \"Stormy\", \"Snowy\", \"Windy\", \"Foggy\"]\n",
    "     temp=random.randint(-10,40)\n",
    "\n",
    "     w1=random.choice(w)\n",
    "     print(f\"Weather:{w1},Temp:{temp} C\")\n",
    "weather_simulator();\n"
   ]
  },
  {
   "cell_type": "code",
   "execution_count": 20,
   "id": "d3834724",
   "metadata": {},
   "outputs": [
    {
     "name": "stdout",
     "output_type": "stream",
     "text": [
      "5\n",
      "4\n",
      "3\n",
      "2\n",
      "1\n",
      "Time's is up!\n"
     ]
    }
   ],
   "source": [
    "\"\"\"\n",
    "10. Timer Program (`time`)\n",
    " \n",
    "* Input: `countdown(5)`\n",
    "* Output:\n",
    "  ```\n",
    "  5  \n",
    "  4  \n",
    "  3  \n",
    "  2  \n",
    "  1  \n",
    "  Time’s up!\n",
    "  ```\n",
    "\"\"\"\n",
    "import time\n",
    "def countdown(n):\n",
    "    for i in range(n,0,-1):\n",
    "        print(i)\n",
    "        time.sleep(1)\n",
    "    print(\"Time's is up!\")\n",
    "\n",
    "countdown(5);\n",
    "\n",
    "\n"
   ]
  },
  {
   "cell_type": "code",
   "execution_count": 1,
   "id": "bdbd2359",
   "metadata": {},
   "outputs": [
    {
     "name": "stdout",
     "output_type": "stream",
     "text": [
      "Deposited 50, new balance: 150\n",
      "Withdrew 30, new balance: 120\n",
      "Balance: 120\n"
     ]
    }
   ],
   "source": [
    "\"\"\"\n",
    "11.\n",
    "1. Bank Account Class\n",
    "Attributes:\n",
    "* `balance` → stores the current money in the account\n",
    "* `owner` (optional) → name of account holder\n",
    "Methods:\n",
    "* `deposit(amount)` → adds money to balance\n",
    "* `withdraw(amount)` → subtracts money if enough funds\n",
    "* `get_balance()` → returns balance\n",
    "Example:\n",
    "```python\n",
    "acc = BankAccount(100)   # initial balance = 100\n",
    "acc.deposit(50)          # balance = 150\n",
    "acc.withdraw(30)         # balance = 120\n",
    "print(acc.get_balance())\n",
    "```\n",
    "Output:\n",
    "Balance: 120\n",
    "\"\"\"\n",
    "class BankAccount:\n",
    "    def __init__(self, balance, owner=None):\n",
    "        self.balance = balance\n",
    "        self.owner = owner\n",
    "\n",
    "    def deposit(self, amount):\n",
    "        self.balance += amount\n",
    "        return f\"Deposited {amount}, new balance: {self.balance}\"\n",
    "\n",
    "    def withdraw(self, amount):\n",
    "        if self.balance >= amount:\n",
    "            self.balance -= amount\n",
    "            return f\"Withdrew {amount}, new balance: {self.balance}\"\n",
    "        else:\n",
    "            return \"Insufficient funds\"\n",
    "\n",
    "    def get_balance(self):\n",
    "        return f\"Balance: {self.balance}\"\n",
    "\n",
    "# Example usage:\n",
    "acc = BankAccount(100)   # initial balance = 100\n",
    "print(acc.deposit(50))    # balance = 150\n",
    "print(acc.withdraw(30))   # balance = 120\n",
    "print(acc.get_balance())  # Output: Balance: 120\n"
   ]
  },
  {
   "cell_type": "code",
   "execution_count": null,
   "id": "596cb809",
   "metadata": {},
   "outputs": [
    {
     "name": "stdout",
     "output_type": "stream",
     "text": [
      "85.0\n",
      "95\n"
     ]
    }
   ],
   "source": [
    "\"\"\" \n",
    "12.\n",
    "\n",
    "\"\"\"\n",
    "class Student:\n",
    "    def __init__(self, name, marks):\n",
    "        self.name = name\n",
    "        self.marks = marks\n",
    "\n",
    "    def get_average(self):\n",
    "        return sum(self.marks) / len(self.marks) if self.marks else 0\n",
    "\n",
    "    def add_mark(self, mark):\n",
    "        self.marks.append(mark)\n",
    "    \n",
    "    def get_highest(self):\n",
    "        return max(self.marks) if self.marks else None\n",
    "    \n",
    "    def get_lowest(self):\n",
    "        return min(self.marks) if self.marks else None\n",
    "\n",
    "# Example usage:\n",
    "s = Student(\"Tom\", [90, 80, 85])\n",
    "print(s.get_average()) \n",
    "s.add_mark(95)          \n",
    "print(s.get_highest())  "
   ]
  },
  {
   "cell_type": "code",
   "execution_count": 4,
   "id": "d4e7c5e5",
   "metadata": {},
   "outputs": [
    {
     "name": "stdout",
     "output_type": "stream",
     "text": [
      "10000.0\n"
     ]
    }
   ],
   "source": [
    "\"\"\"\n",
    "13 \n",
    "Employee Bonus System\n",
    " Attributes:\n",
    " * `name` → employee name\n",
    "* `salary` → base salary\n",
    "* `role` → role of employee (e.g., Manager, Developer, Intern)\n",
    " Methods:\n",
    " * `bonus()` → calculates bonus depending on role:\n",
    " \n",
    "  * Manager → 20% of salary\n",
    "  * Developer → 10% of salary\n",
    "  * Intern → 5% of salary\n",
    " \n",
    "Example:\n",
    " ```python\n",
    "m = Manager(\"Alice\", 50000)\n",
    "print(m.bonus())\n",
    "```output:\n",
    "```\n",
    "10000\n",
    "```\n",
    "--\"\"\"\n",
    "\n",
    "class Employee:\n",
    "    def __init__(self, name, salary, role):\n",
    "        self.name = name\n",
    "        self.salary = salary\n",
    "        self.role = role\n",
    "\n",
    "    def bonus(self):\n",
    "        if self.role == \"Manager\":\n",
    "            return self.salary * 0.20\n",
    "        elif self.role == \"Developer\":\n",
    "            return self.salary * 0.10\n",
    "        elif self.role == \"Intern\":\n",
    "            return self.salary * 0.05\n",
    "        else:\n",
    "            return 0\n",
    "\n",
    "m = Employee(\"Alice\", 50000, \"Manager\")\n",
    "print(m.bonus())\n",
    "\n"
   ]
  },
  {
   "cell_type": "code",
   "execution_count": null,
   "id": "2c9fa5ce",
   "metadata": {},
   "outputs": [
    {
     "name": "stdout",
     "output_type": "stream",
     "text": [
      "153.94\n",
      "20\n"
     ]
    }
   ],
   "source": [
    "\"\"\"\n",
    "15.\n",
    "Base Class (Shape):\n",
    "*Attribute: `name`\n",
    "*Method: `area()` → to be overridden by subclasses\n",
    "Subclasses:\n",
    "* `Circle(radius)` → area = π × r²\n",
    "* `Rectangle(width, height)` → area = width × height\n",
    "Example:\n",
    "```python\n",
    "c = Circle(7)\n",
    "print(c.area())\n",
    "r = Rectangle(4, 5)\n",
    "print(r.area())\n",
    "```\n",
    "Output:\n",
    "```\n",
    "153.94\n",
    "20\n",
    "\"\"\"\n",
    "import math\n",
    "class Shape:\n",
    "    def __init__(self, name):\n",
    "        self.name = name\n",
    "    def area(self):\n",
    "        pass\n",
    "class Circle(Shape):\n",
    "    def __init__(self, radius):\n",
    "        self.name = \"Circle\"\n",
    "        self.radius = radius\n",
    "    def area(self):\n",
    "        return round(math.pi * self.radius ** 2, 2)\n",
    "class Rectangle(Shape):\n",
    "    def __init__(self, width, height):\n",
    "        self.name = \"Rectangle\"\n",
    "        self.width = width\n",
    "        self.height = height\n",
    "    def area(self):\n",
    "        return self.width * self.height\n",
    "c = Circle(7)\n",
    "print(c.area())\n",
    "r = Rectangle(4, 5)\n",
    "print(r.area())\n"
   ]
  },
  {
   "cell_type": "code",
   "execution_count": 35,
   "id": "d3720ae6",
   "metadata": {},
   "outputs": [
    {
     "name": "stdout",
     "output_type": "stream",
     "text": [
      "[0, 1, 1, 2, 3, 5, 8]\n"
     ]
    }
   ],
   "source": [
    "\"\"\"\n",
    "16. Fibonacci Generator\n",
    "* Function generates `n` Fibonacci numbers.\n",
    "* Input: `n = 7`\n",
    "* Output: `[0, 1, 1, 2, 3, 5, 8]`\n",
    "\"\"\"\n",
    "def fibanocci_generator(n):\n",
    "    n1=0\n",
    "    n2=1\n",
    "    list1=[]\n",
    "    list1.append(n1)\n",
    "    list1.append(n2)\n",
    "    for i in range(3,n+1):\n",
    "        n3=n1+n2\n",
    "        list1.append(n3)\n",
    "        n1=n2\n",
    "        n2=n3\n",
    "    return list1\n",
    "\n",
    "n=int(input())\n",
    "print(fibanocci_generator(n));"
   ]
  },
  {
   "cell_type": "code",
   "execution_count": 36,
   "id": "b95b8ad1",
   "metadata": {},
   "outputs": [
    {
     "name": "stdout",
     "output_type": "stream",
     "text": [
      "120\n"
     ]
    }
   ],
   "source": [
    "\"\"\"\n",
    "17.Factorial Using Recursion\n",
    "* Compute factorial using recursion.\n",
    "* Input: `5`\n",
    "* Output: `120`\n",
    "\"\"\"\n",
    "def factorial(n):\n",
    "    if n==0:\n",
    "        return 1\n",
    "    else:\n",
    "        return n*factorial(n-1)\n",
    "n=int(input())\n",
    "print(factorial(n))\n"
   ]
  },
  {
   "cell_type": "code",
   "execution_count": 46,
   "id": "7d487747",
   "metadata": {},
   "outputs": [
    {
     "name": "stdout",
     "output_type": "stream",
     "text": [
      "{'apple': 2, 'banana': 2, 'orange': 1}\n"
     ]
    }
   ],
   "source": [
    "\"\"\"\n",
    "18.Unique Words Counter\n",
    "* Return unique words in a sentence.\n",
    "* Input: `\"apple banana apple orange banana\"`\n",
    "* Output: `{'apple':2,'banana':2,'orange':1}`\n",
    "\"\"\"\n",
    "def uniquewordcounter():\n",
    "    w=words.split()\n",
    "    d={}\n",
    "    for i in w:\n",
    "        if i in d:\n",
    "            d[i] += 1\n",
    "        else:\n",
    "            d[i]=1\n",
    "\n",
    "    print(dict(d))\n",
    "\n",
    "words=input().lower()\n",
    "uniquewordcounter();\n"
   ]
  },
  {
   "cell_type": "code",
   "execution_count": null,
   "id": "8ae230bb",
   "metadata": {},
   "outputs": [
    {
     "name": "stdout",
     "output_type": "stream",
     "text": [
      "84.33333333333333\n",
      "A\n"
     ]
    }
   ],
   "source": [
    "\"\"\"\n",
    "19. Grade Calculator\n",
    " \n",
    "* Function takes marks and returns grade.\n",
    " \n",
    "* Input: `[85, 90, 78]`\n",
    " \n",
    "* Output: `\"Grade: A\"`\n",
    " \n",
    "\n",
    "\"\"\"\n",
    "def grade_calculator():\n",
    "    marks=list(map(int,input().split()))\n",
    "    total=sum(marks)/len(marks)\n",
    "    \n",
    "    if total>90:\n",
    "        return 'A+'\n",
    "    elif 80 <= total <= 89:\n",
    "        return 'A'\n",
    "    elif 70<= total <= 79:\n",
    "        return 'B'\n",
    "    elif 60 <= total <= 69:\n",
    "        return 'C'\n",
    "    else:\n",
    "        return 'fail'\n",
    "\n",
    "print(grade_calculator())\n"
   ]
  },
  {
   "cell_type": "code",
   "execution_count": null,
   "id": "475402b8",
   "metadata": {},
   "outputs": [
    {
     "name": "stdout",
     "output_type": "stream",
     "text": [
      "[5, 8, 10, 20]\n",
      "10\n"
     ]
    }
   ],
   "source": [
    "\"\"\"\n",
    "20. Second Largest Number\n",
    "* Return 2nd largest number from a list.\n",
    "* Input: `[10, 5, 20, 8]`\n",
    "* Output: `10\n",
    "\"\"\"\n",
    "def secondlargest():\n",
    "    nums=list(map(int,input().split()))\n",
    "    sortedd= sorted(nums)\n",
    "    return sortedd[-2]\n",
    "print(secondlargest())"
   ]
  },
  {
   "cell_type": "code",
   "execution_count": 70,
   "id": "ce564562",
   "metadata": {},
   "outputs": [
    {
     "name": "stdout",
     "output_type": "stream",
     "text": [
      "Text files: 0\n",
      "Python files: 2\n"
     ]
    }
   ],
   "source": [
    "\"\"\"\n",
    "20.`os` → Count Files by Extension\n",
    "Write a program using `os` to count how many `.txt` and `.py` files are in the current directory.\n",
    "Sample Input (files in folder):\n",
    "```\n",
    "[\"notes.txt\", \"app.py\", \"data.csv\", \"report.txt\", \"main.py\" \n",
    "```\n",
    "Sample Output \n",
    "```\n",
    "Text files: 2\n",
    "Python files: 2\n",
    "\"\"\"\n",
    "import os\n",
    "def countfiles():\n",
    "    \n",
    "    files= os.listdir()\n",
    "    py_count=0\n",
    "    txt_count=0\n",
    "    for i in files:\n",
    "        if i.endswith('.ipynb'):\n",
    "            py_count+=1\n",
    "        elif i.endswith('.txt'):\n",
    "            txt_count+=1\n",
    "    print(f\"Text files: {txt_count}\")\n",
    "    print(f\"Python files: {py_count}\")\n",
    "\n",
    "countfiles();\n"
   ]
  },
  {
   "cell_type": "code",
   "execution_count": 76,
   "id": "893c1c1a",
   "metadata": {},
   "outputs": [
    {
     "name": "stdout",
     "output_type": "stream",
     "text": [
      "Mean: 87.86\n",
      "Median: 90.0\n",
      "Variance: 73.81\n"
     ]
    }
   ],
   "source": [
    "\"\"\"\n",
    "21.`statistics` → Exam Score Analysis\n",
    "Use `statistics` to calculate the mean, median, and variance of student exam scores.\n",
    "Sample Input:\n",
    "```\n",
    "Scores = [75, 80, 90, 100, 85, 90, 95]\n",
    "```\n",
    "\"\"\"\n",
    "import statistics\n",
    "def statisticaloperations():\n",
    "    scores=list(map(float,input().split(',')))\n",
    "    mean_score = statistics.mean(scores)\n",
    "    median_score = statistics.median(scores)\n",
    "    variance_score = statistics.variance(scores)\n",
    "    print(f\"Mean: {mean_score:.2f}\")\n",
    "    print(f\"Median: {median_score}\")\n",
    "    print(f\"Variance: {variance_score:.2f}\")\n",
    "\n",
    "statisticaloperations();\n"
   ]
  },
  {
   "cell_type": "code",
   "execution_count": 79,
   "id": "aacec308",
   "metadata": {},
   "outputs": [
    {
     "name": "stdout",
     "output_type": "stream",
     "text": [
      "Roots are:2.0 and 1.0\n"
     ]
    }
   ],
   "source": [
    "\"\"\"\n",
    "22.\n",
    "`math` → Quadratic Equation Solver\n",
    "Use the `math` module to solve quadratic equations of the form `ax² + bx + c = 0`.\n",
    "\n",
    "Sample Input:\n",
    "```\n",
    "a = 1, b = -3, c = 2 \n",
    "Sample Output:\n",
    "Roots are: 1.0 and 2.0\n",
    "\"\"\"\n",
    "import math\n",
    "def quadratic():\n",
    "    a=int(input(\"a=\"))\n",
    "    b=int(input(\"b=\"))\n",
    "    c=int(input(\"c=\"))\n",
    "\n",
    "    d= (b*b)-4*a*c\n",
    "\n",
    "    if d == 0:\n",
    "        root = -b / (2*a)\n",
    "        print(f\"Root is: {root}\")\n",
    "    elif d>0:\n",
    "        r1= (-b+math.sqrt(b*b-4*a*c))/2*a\n",
    "        r2=(-b-math.sqrt(b*b-4*a*c))/2*a\n",
    "        print(f\"Roots are:{r1} and {r2}\")\n",
    "    else:\n",
    "        r = -b / (2*a)\n",
    "        i = math.sqrt(-d) / (2*a)\n",
    "        print(f\"Roots are : {r}+{i}i and {r}-{i}i\")\n",
    "\n",
    "quadratic();\n",
    "\n",
    "\n"
   ]
  },
  {
   "cell_type": "code",
   "execution_count": 86,
   "id": "8fbcb95b",
   "metadata": {},
   "outputs": [
    {
     "name": "stdout",
     "output_type": "stream",
     "text": [
      "You chose rock,Computer chose scissors\n",
      "You Win!\n"
     ]
    }
   ],
   "source": [
    "\"\"\"\n",
    "23.`random` → Rock Paper Scissors Game\n",
    "Use `random.choice()` to let the computer play Rock–Paper–Scissors against the user.\n",
    "Sample Input:\n",
    "User: Rock\n",
    "Computer (random): Scissors\n",
    "Sample Output:\n",
    "You chose Rock, Computer chose Scissors \n",
    "You Win!\n",
    "\"\"\"\n",
    "import random\n",
    "def rockpaper():\n",
    "    user=input().lower()\n",
    "    p=['rock','paper','scissors']\n",
    "    computer=random.choice(p)\n",
    "    print(f\"You chose {user},Computer chose {computer}\")\n",
    "    if (user == \"rock\" and computer == \"scissors\") or \\\n",
    "         (user == \"paper\" and computer == \"rock\") or \\\n",
    "         (user == \"scissors\" and computer == \"paper\"):\n",
    "         print(\"You Win!\")\n",
    "    elif user in options:\n",
    "        print(\"You Lose!\")\n",
    "\n",
    "\n",
    "\n",
    "rockpaper();"
   ]
  },
  {
   "cell_type": "code",
   "execution_count": null,
   "id": "0e6c4981",
   "metadata": {},
   "outputs": [],
   "source": [
    "\"\"\"\n",
    "24.\n",
    "5. `sys` → Sum from Command Line\n",
    "Write a program using `sys.argv` to take three numbers from the command line\n",
    " and print their sum.\n",
    "Sample Input (command line):\n",
    "```\n",
    "python add.py 5 10 15\n",
    "``\n",
    "Sample Output:\n",
    "```\n",
    "Sum = 30\n",
    " \n",
    "\n",
    "\"\"\""
   ]
  },
  {
   "cell_type": "code",
   "execution_count": null,
   "id": "43c07c46",
   "metadata": {
    "vscode": {
     "languageId": "markdown"
    }
   },
   "outputs": [],
   "source": []
  },
  {
   "cell_type": "code",
   "execution_count": null,
   "id": "0cd9b9be",
   "metadata": {
    "vscode": {
     "languageId": "markdown"
    }
   },
   "outputs": [],
   "source": []
  },
  {
   "cell_type": "code",
   "execution_count": null,
   "id": "a414b9a3",
   "metadata": {
    "vscode": {
     "languageId": "markdown"
    }
   },
   "outputs": [],
   "source": []
  }
 ],
 "metadata": {
  "kernelspec": {
   "display_name": "Python 3",
   "language": "python",
   "name": "python3"
  },
  "language_info": {
   "codemirror_mode": {
    "name": "ipython",
    "version": 3
   },
   "file_extension": ".py",
   "mimetype": "text/x-python",
   "name": "python",
   "nbconvert_exporter": "python",
   "pygments_lexer": "ipython3",
   "version": "3.11.0"
  }
 },
 "nbformat": 4,
 "nbformat_minor": 5
}
