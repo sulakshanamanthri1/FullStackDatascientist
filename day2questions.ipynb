{
 "cells": [
  {
   "cell_type": "code",
   "execution_count": 6,
   "id": "c61add80",
   "metadata": {},
   "outputs": [
    {
     "name": "stdout",
     "output_type": "stream",
     "text": [
      "6\n"
     ]
    }
   ],
   "source": [
    "\"\"\"\n",
    " Problem: Given a text file, count the total number of words.\n",
    "\n",
    "\"\"\"\n",
    "import os\n",
    "def countingwords():\n",
    "    o=open(\"file1.txt\",\"r\")\n",
    "    splitted=o.read().split()\n",
    "    print(len(splitted))\n",
    "\n",
    "countingwords();\n"
   ]
  },
  {
   "cell_type": "code",
   "execution_count": 22,
   "id": "ebc1dd78",
   "metadata": {},
   "outputs": [
    {
     "name": "stdout",
     "output_type": "stream",
     "text": [
      "Not a Strong password\n"
     ]
    }
   ],
   "source": [
    "\"\"\"\n",
    "2. Problem: Write a program to check if a password is strong (at least 8 characters, contains uppercase, \n",
    "lowercase, digit, and special char).\n",
    "\"\"\"\n",
    "import string\n",
    "def PasswordStrong():\n",
    "    p=input(\"enter password\")\n",
    "\n",
    "    lengthh=len(p)\n",
    "    has_upper=False\n",
    "    has_lower=False\n",
    "    has_digit=False\n",
    "    has_special=False\n",
    "    for i in p:\n",
    "        if i in string.ascii_uppercase:\n",
    "            has_upper=True\n",
    "        if i in string.ascii_lowercase:\n",
    "            has_lower=True\n",
    "        if i in string.digits:\n",
    "            has_digit=True\n",
    "        if i in string.punctuation:\n",
    "            has_special=True\n",
    "\n",
    "    if lengthh < 8:\n",
    "        print(\"Not a strong password\")\n",
    "\n",
    "    if  has_upper and has_lower and has_digit and has_special:\n",
    "        print(\"Strong password\")\n",
    "    else:\n",
    "        print(\"Not a Strong password\")\n",
    "PasswordStrong();\n"
   ]
  },
  {
   "cell_type": "code",
   "execution_count": 28,
   "id": "259c7520",
   "metadata": {},
   "outputs": [
    {
     "ename": "SyntaxError",
     "evalue": "invalid syntax (2319359418.py, line 26)",
     "output_type": "error",
     "traceback": [
      "  \u001b[36mCell\u001b[39m\u001b[36m \u001b[39m\u001b[32mIn[28]\u001b[39m\u001b[32m, line 26\u001b[39m\n\u001b[31m    \u001b[39m\u001b[31m'+':obj.addition(a,b);\u001b[39m\n                         ^\n\u001b[31mSyntaxError\u001b[39m\u001b[31m:\u001b[39m invalid syntax\n"
     ]
    }
   ],
   "source": [
    "\"\"\"\n",
    "3.3. Problem: Implement a calculator with +, -, *, / operations.\n",
    "\n",
    "\"\"\"\n",
    "class Calculator:\n",
    "    def __init__(self):\n",
    "        self.operation=operation\n",
    "        self.a=a\n",
    "        self.b=b\n",
    "    def addition(self):\n",
    "        return self.a+self.b\n",
    "    def subb(self):\n",
    "        return self.a-self.b\n",
    "    def mul(self):\n",
    "        return self.a*self.b\n",
    "    def divi(self):\n",
    "        return self.a/self.b\n",
    "\n",
    "a=float(input())\n",
    "b=float(input())\n",
    "operation= input()\n",
    "\n",
    "obj=Calculator(a,b,operation);\n",
    "\n",
    "switch ={\n",
    "        '+':obj.addition(a,b);\n",
    "        '-':obj.subb(a,b);\n",
    "        '*':obj.mul(a,b);\n",
    "        '/':obj.divi(a,b);\n",
    "    }\n",
    "\n"
   ]
  },
  {
   "cell_type": "code",
   "execution_count": null,
   "id": "83ebe6c9",
   "metadata": {},
   "outputs": [],
   "source": []
  }
 ],
 "metadata": {
  "kernelspec": {
   "display_name": "Python 3",
   "language": "python",
   "name": "python3"
  },
  "language_info": {
   "codemirror_mode": {
    "name": "ipython",
    "version": 3
   },
   "file_extension": ".py",
   "mimetype": "text/x-python",
   "name": "python",
   "nbconvert_exporter": "python",
   "pygments_lexer": "ipython3",
   "version": "3.11.0"
  }
 },
 "nbformat": 4,
 "nbformat_minor": 5
}
